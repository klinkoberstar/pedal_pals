{
 "cells": [
  {
   "cell_type": "code",
   "execution_count": null,
   "metadata": {},
   "outputs": [],
   "source": [
    "import pandas as pd\n",
    "from sodapy import Socrata\n",
    "import os\n",
    "import re"
   ]
  },
  {
   "cell_type": "markdown",
   "metadata": {},
   "source": [
    "#### Extract Data and write to parquet files"
   ]
  },
  {
   "cell_type": "code",
   "execution_count": null,
   "metadata": {
    "tags": []
   },
   "outputs": [],
   "source": [
    "while True:\n",
    "    try:\n",
    "        client = Socrata(\"data.cityofchicago.org\", None)\n",
    "\n",
    "        base_query = \"SELECT * ORDER BY start_time DESC\"\n",
    "\n",
    "        limit = 100000\n",
    "\n",
    "        # Create a directory to store the parquet files if it does not exist\n",
    "        parquet_dir = 'parquet_files'\n",
    "        os.makedirs(parquet_dir, exist_ok=True)\n",
    "\n",
    "        # Function to extract offset from file name\n",
    "        def extract_offset(filename):\n",
    "            match = re.search(r'data_(\\d+).parquet', filename)\n",
    "            return int(match.group(1)) if match else 0\n",
    "\n",
    "        # Find the highest offset in the parquet folder\n",
    "        existing_files = [f for f in os.listdir(parquet_dir) if f.endswith('.parquet')]\n",
    "        offsets = [extract_offset(f) for f in existing_files]\n",
    "        offset = max(offsets, default=0) + limit if offsets else 0\n",
    "\n",
    "        while True:\n",
    "            query = f\"{base_query} LIMIT {limit} OFFSET {offset}\"\n",
    "            \n",
    "            results = client.get(\"fg6s-gzvg\", query=query)\n",
    "            if not results:\n",
    "                break\n",
    "            \n",
    "            print(f'Retrieved {offset} to {offset + limit} rows')\n",
    "\n",
    "            # Convert the results to a DataFrame\n",
    "            results_df = pd.DataFrame.from_records(results)\n",
    "\n",
    "            # Save the DataFrame to a parquet file\n",
    "            file_name = f\"{parquet_dir}/data_{offset}.parquet\"\n",
    "            results_df.to_parquet(file_name, index=False)\n",
    "\n",
    "            offset += limit\n",
    "\n",
    "        print(\"Data retrieval and saving complete.\")\n",
    "\n",
    "    except Exception as e:\n",
    "        print(f\"An error occurred: {e}\")\n",
    "            "
   ]
  },
  {
   "cell_type": "markdown",
   "metadata": {},
   "source": [
    "#### Filter and take a random sample"
   ]
  },
  {
   "cell_type": "code",
   "execution_count": null,
   "metadata": {},
   "outputs": [],
   "source": [
    "import pandas as pd\n",
    "from sodapy import Socrata\n",
    "import os\n",
    "import re\n",
    "\n",
    "parquet_dir = 'parquet_files'\n",
    "parquet_files = [f for f in os.listdir(parquet_dir) if f.endswith('.parquet')]\n",
    "\n",
    "all_data = pd.concat([pd.read_parquet(os.path.join(parquet_dir, file)) for file in parquet_files])\n",
    "filtered_data = all_data[all_data['start_time'] >= '2017']\n",
    "\n",
    "sample_size = 100000\n",
    "random_sample = filtered_data.sample(n=sample_size)\n"
   ]
  },
  {
   "cell_type": "markdown",
   "metadata": {},
   "source": [
    "#### Write random sample to csv"
   ]
  },
  {
   "cell_type": "code",
   "execution_count": null,
   "metadata": {},
   "outputs": [],
   "source": [
    "random_sample.to_csv('rs_100000_2017_to_present.csv', index=False)"
   ]
  }
 ],
 "metadata": {
  "kernelspec": {
   "display_name": "math_ml_project",
   "language": "python",
   "name": "python3"
  },
  "language_info": {
   "codemirror_mode": {
    "name": "ipython",
    "version": 3
   },
   "file_extension": ".py",
   "mimetype": "text/x-python",
   "name": "python",
   "nbconvert_exporter": "python",
   "pygments_lexer": "ipython3",
   "version": "3.11.2"
  }
 },
 "nbformat": 4,
 "nbformat_minor": 2
}
